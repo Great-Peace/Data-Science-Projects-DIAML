{
  "nbformat": 4,
  "nbformat_minor": 0,
  "metadata": {
    "colab": {
      "provenance": []
    },
    "kernelspec": {
      "name": "python3",
      "display_name": "Python 3"
    },
    "language_info": {
      "name": "python"
    }
  },
  "cells": [
    {
      "cell_type": "markdown",
      "source": [
        "# **Question 1 - Number of folds**"
      ],
      "metadata": {
        "id": "Sbyq7Y2et6l7"
      }
    },
    {
      "cell_type": "code",
      "source": [
        "import math\n",
        "import matplotlib.pyplot as peaceplt\n",
        "import pandas as peacepd\n",
        "# import numpy as peacenp\n",
        "from scipy.interpolate import interp1d as peacep1d\n",
        "from google.colab import drive\n",
        "from datetime import datetime"
      ],
      "metadata": {
        "id": "5WBAA5yZ-OO6"
      },
      "execution_count": 4,
      "outputs": []
    },
    {
      "cell_type": "code",
      "source": [
        "drive.mount('/content/drive/')"
      ],
      "metadata": {
        "colab": {
          "base_uri": "https://localhost:8080/"
        },
        "id": "GqJzMKewJYdA",
        "outputId": "9b5956f5-be82-4ab2-edc1-ddcc695204d1"
      },
      "execution_count": 5,
      "outputs": [
        {
          "output_type": "stream",
          "name": "stdout",
          "text": [
            "Mounted at /content/drive/\n"
          ]
        }
      ]
    },
    {
      "cell_type": "code",
      "execution_count": 6,
      "metadata": {
        "id": "2PHAs7gCtwzg"
      },
      "outputs": [],
      "source": [
        "#convert paper thickness of 1mm to meters for easy comparison with the height of Mount Everest\n",
        "paper_thickness_in_meters = 1 * (10 ** -3)\n",
        "\n",
        "#create a variable and assign the height of Mount Everest to it.\n",
        "mount_everest = 8848\n",
        "\n",
        "#this counts the number of folds to exceed Mount Everest's height\n",
        "count = 0"
      ]
    },
    {
      "cell_type": "code",
      "source": [
        "#paper thickness doubles up each time folding is done i.e. 2 layers of the original layer\n",
        "new_thickness = paper_thickness_in_meters\n",
        "while(new_thickness < mount_everest):\n",
        "  new_thickness *= 2\n",
        "  count += 1\n",
        "\n",
        "print(count)"
      ],
      "metadata": {
        "colab": {
          "base_uri": "https://localhost:8080/"
        },
        "id": "X3yuh4SNxMYQ",
        "outputId": "391dc50e-2e3f-4b09-f847-06f13fb54dda"
      },
      "execution_count": 7,
      "outputs": [
        {
          "output_type": "stream",
          "name": "stdout",
          "text": [
            "24\n"
          ]
        }
      ]
    },
    {
      "cell_type": "markdown",
      "source": [
        "# **Question 2 - Decay Process**\n"
      ],
      "metadata": {
        "id": "s9aCNqhN11sc"
      }
    },
    {
      "cell_type": "code",
      "source": [
        "#assign the value of a in the question to variable named a\n",
        "a = 0.1\n",
        "\n",
        "#initialize the initial volume and assign it to a variable called current volume\n",
        "initial_volume = 1.0\n",
        "current_volume = initial_volume\n",
        "\n",
        "#expected volume to decrease to\n",
        "expected_volume = current_volume / 2\n",
        "\n",
        "#initialize time and time increment\n",
        "time = 0.0\n",
        "time_increment = 0.001\n",
        "\n",
        "while (expected_volume < current_volume):\n",
        "  current_volume = initial_volume * math.exp(-a * time)\n",
        "  time += time_increment\n",
        "\n",
        "print(time)"
      ],
      "metadata": {
        "colab": {
          "base_uri": "https://localhost:8080/"
        },
        "id": "XSXdoeUi1S8y",
        "outputId": "ba022987-0cc3-4f53-dd47-3b14eed04e53"
      },
      "execution_count": 8,
      "outputs": [
        {
          "output_type": "stream",
          "name": "stdout",
          "text": [
            "6.93300000000065\n"
          ]
        }
      ]
    },
    {
      "cell_type": "markdown",
      "source": [
        "# **Question 3 - Annual Compound Interest**"
      ],
      "metadata": {
        "id": "nIVaWwiRBNC_"
      }
    },
    {
      "cell_type": "code",
      "source": [
        "#initialize principal, rate and time in years\n",
        "principal = 100\n",
        "rate = 5 / 100\n",
        "time = 5\n",
        "\n",
        "def investment_amount(principal, rate, time):\n",
        "  #initialize amount (principal + interest) for the first year with the principal as the total_amount\n",
        "  total_amount_per_year = principal\n",
        "\n",
        "  #create a list to store each total amount per year\n",
        "  total_amounts = {}\n",
        "\n",
        "  for i in range (1, time + 1):\n",
        "    total_amount_per_year += total_amount_per_year * rate\n",
        "    total_amounts[f\"Year {i}\"] = round(total_amount_per_year)\n",
        "  return total_amounts\n",
        "\n",
        "amount_yield = investment_amount(principal, rate, time)\n",
        "print(\"{\")\n",
        "for j, k in amount_yield.items():\n",
        "  print(f\"    '{j}': '{k}',\")\n",
        "print(\"}\")"
      ],
      "metadata": {
        "colab": {
          "base_uri": "https://localhost:8080/"
        },
        "id": "oNngv26JAdJJ",
        "outputId": "33d74f38-23e2-43d7-cf6a-c3285fc9eaa8"
      },
      "execution_count": 9,
      "outputs": [
        {
          "output_type": "stream",
          "name": "stdout",
          "text": [
            "{\n",
            "    'Year 1': '105',\n",
            "    'Year 2': '110',\n",
            "    'Year 3': '116',\n",
            "    'Year 4': '122',\n",
            "    'Year 5': '128',\n",
            "}\n"
          ]
        }
      ]
    },
    {
      "cell_type": "markdown",
      "source": [
        "# **Question 4 - Loan monthly repayment**"
      ],
      "metadata": {
        "id": "3OoSh-1kHwEE"
      }
    },
    {
      "cell_type": "code",
      "source": [
        "principal = 20000\n",
        "rate = 1 / 100\n",
        "time_in_years = 3\n",
        "\n",
        "def loan_repayment(principal, rate, time):\n",
        "  yearly_repayment = {}\n",
        "\n",
        "  for i in range (1, time + 1):\n",
        "    month_per_year = i * 12\n",
        "    balance_from_loan = principal\n",
        "    monthly_payment = 0\n",
        "\n",
        "    monthly_payment = principal / month_per_year\n",
        "    for a in range (month_per_year):\n",
        "      interest = balance_from_loan * rate\n",
        "      balance_from_loan += interest - monthly_payment\n",
        "\n",
        "    monthly_payment = (principal + balance_from_loan) / month_per_year\n",
        "\n",
        "    yearly_repayment[f\"Year {i}\"] = round(monthly_payment)\n",
        "\n",
        "  return yearly_repayment\n",
        "\n",
        "loan_payment = loan_repayment(principal, rate, time_in_years)\n",
        "print(\"{\")\n",
        "for j, k in loan_payment.items():\n",
        "  print(f\"    '{j}': '{k}',\")\n",
        "print(\"}\")\n",
        "\n"
      ],
      "metadata": {
        "colab": {
          "base_uri": "https://localhost:8080/"
        },
        "id": "R3eR90lKGPm4",
        "outputId": "b3afce7a-f83f-4db9-cfda-66c1bb1b9e5d"
      },
      "execution_count": 10,
      "outputs": [
        {
          "output_type": "stream",
          "name": "stdout",
          "text": [
            "{\n",
            "    'Year 1': '1783',\n",
            "    'Year 2': '955',\n",
            "    'Year 3': '686',\n",
            "}\n"
          ]
        }
      ]
    },
    {
      "cell_type": "markdown",
      "source": [
        "# **Question 5 - Business Investment**"
      ],
      "metadata": {
        "id": "psomgyBxd0Dx"
      }
    },
    {
      "cell_type": "code",
      "source": [
        "principal = 100000\n",
        "starting_customers = 100\n",
        "customer_growth_rate_per_day = 1 / 100\n",
        "profit_from_each_customer = 10\n",
        "breakeven_day = None\n",
        "\n",
        "profit = 0\n",
        "number_of_customers = starting_customers\n",
        "day = 1\n",
        "last_profit = 0\n",
        "days = []\n",
        "profits = []\n",
        "\n",
        "peaceplt.ion()\n",
        "\n",
        "while profit < principal:\n",
        "  profit += number_of_customers * profit_from_each_customer\n",
        "\n",
        "  last_profit = profit\n",
        "  profits.append(profit)\n",
        "  days.append(day)\n",
        "\n",
        "  if(profit >= principal and breakeven_day is None):\n",
        "    breakeven_day = day\n",
        "\n",
        "  number_of_customers += number_of_customers * customer_growth_rate_per_day\n",
        "  day += 1\n",
        "\n",
        "#Plot Graph\n",
        "peaceplt.plot(days, profits, label=f\"Total Profit (${last_profit:,.2f})\")\n",
        "peaceplt.axhline(y=principal, color='g', linestyle='--', label=\"Principal ($100,000)\")\n",
        "peaceplt.axvline(x=breakeven_day, color='y', linestyle='--', label=f\"Break even Day ({breakeven_day} days)\")\n",
        "\n",
        "peaceplt.xlabel(\"Days\")\n",
        "peaceplt.ylabel(\"Profit for the Day ($)\")\n",
        "peaceplt.title(\"Profit Growth Over Time\")\n",
        "peaceplt.legend()\n",
        "\n",
        "peaceplt.draw()\n",
        "peaceplt.pause(0.5)\n",
        "\n",
        "peaceplt.show()\n",
        "\n",
        "print(days)"
      ],
      "metadata": {
        "colab": {
          "base_uri": "https://localhost:8080/",
          "height": 509
        },
        "id": "Oe66GIWLNwyM",
        "outputId": "98ccdfe0-53d1-4034-aa0e-444fceafbc9a"
      },
      "execution_count": 11,
      "outputs": [
        {
          "output_type": "display_data",
          "data": {
            "text/plain": [
              "<Figure size 640x480 with 1 Axes>"
            ],
            "image/png": "[encoded data removed]"
          },
          "metadata": {}
        },
        {
          "output_type": "stream",
          "name": "stdout",
          "text": [
            "[1, 2, 3, 4, 5, 6, 7, 8, 9, 10, 11, 12, 13, 14, 15, 16, 17, 18, 19, 20, 21, 22, 23, 24, 25, 26, 27, 28, 29, 30, 31, 32, 33, 34, 35, 36, 37, 38, 39, 40, 41, 42, 43, 44, 45, 46, 47, 48, 49, 50, 51, 52, 53, 54, 55, 56, 57, 58, 59, 60, 61, 62, 63, 64, 65, 66, 67, 68, 69, 70]\n"
          ]
        }
      ]
    },
    {
      "cell_type": "markdown",
      "source": [
        "# **Question 6 - Data & Linear Interpolation**"
      ],
      "metadata": {
        "id": "MvClaXmU_G-8"
      }
    },
    {
      "cell_type": "code",
      "source": [
        "#Read Ebola Data\n",
        "e_data = peacepd.read_excel('ebola_download.xls')"
      ],
      "metadata": {
        "id": "60_9q6_r1Pn0"
      },
      "execution_count": 12,
      "outputs": []
    },
    {
      "cell_type": "code",
      "source": [
        "#Extract the date, deaths and cases columns\n",
        "dates = e_data['Date']\n",
        "deaths = e_data['Death']\n",
        "cases = e_data['Cases']"
      ],
      "metadata": {
        "id": "yQ8JY9McezLi"
      },
      "execution_count": 13,
      "outputs": []
    },
    {
      "cell_type": "code",
      "source": [
        "e_data.head()"
      ],
      "metadata": {
        "colab": {
          "base_uri": "https://localhost:8080/",
          "height": 206
        },
        "id": "XJUlXNkhk3Gw",
        "outputId": "26ddd47b-f3d8-4f6a-f08c-836b5e3b38cb"
      },
      "execution_count": 14,
      "outputs": [
        {
          "output_type": "execute_result",
          "data": {
            "text/plain": [
              "        Date  Cases  Death  Diff  Noofdays\n",
              "0 2014-03-22     49     29     2         1\n",
              "1 2014-03-24     86     59     1         3\n",
              "2 2014-03-25     86     60     1         4\n",
              "3 2014-03-26     86     62     1         5\n",
              "4 2014-03-27    111     72     1         6"
            ],
            "text/html": [
              "\n",
              "  <div id=\"df-74776584-d545-4442-b476-f5b028f20f60\" class=\"colab-df-container\">\n",
              "    <div>\n",
              "<style scoped>\n",
              "    .dataframe tbody tr th:only-of-type {\n",
              "        vertical-align: middle;\n",
              "    }\n",
              "\n",
              "    .dataframe tbody tr th {\n",
              "        vertical-align: top;\n",
              "    }\n",
              "\n",
              "    .dataframe thead th {\n",
              "        text-align: right;\n",
              "    }\n",
              "</style>\n",
              "<table border=\"1\" class=\"dataframe\">\n",
              "  <thead>\n",
              "    <tr style=\"text-align: right;\">\n",
              "      <th></th>\n",
              "      <th>Date</th>\n",
              "      <th>Cases</th>\n",
              "      <th>Death</th>\n",
              "      <th>Diff</th>\n",
              "      <th>Noofdays</th>\n",
              "    </tr>\n",
              "  </thead>\n",
              "  <tbody>\n",
              "    <tr>\n",
              "      <th>0</th>\n",
              "      <td>2014-03-22</td>\n",
              "      <td>49</td>\n",
              "      <td>29</td>\n",
              "      <td>2</td>\n",
              "      <td>1</td>\n",
              "    </tr>\n",
              "    <tr>\n",
              "      <th>1</th>\n",
              "      <td>2014-03-24</td>\n",
              "      <td>86</td>\n",
              "      <td>59</td>\n",
              "      <td>1</td>\n",
              "      <td>3</td>\n",
              "    </tr>\n",
              "    <tr>\n",
              "      <th>2</th>\n",
              "      <td>2014-03-25</td>\n",
              "      <td>86</td>\n",
              "      <td>60</td>\n",
              "      <td>1</td>\n",
              "      <td>4</td>\n",
              "    </tr>\n",
              "    <tr>\n",
              "      <th>3</th>\n",
              "      <td>2014-03-26</td>\n",
              "      <td>86</td>\n",
              "      <td>62</td>\n",
              "      <td>1</td>\n",
              "      <td>5</td>\n",
              "    </tr>\n",
              "    <tr>\n",
              "      <th>4</th>\n",
              "      <td>2014-03-27</td>\n",
              "      <td>111</td>\n",
              "      <td>72</td>\n",
              "      <td>1</td>\n",
              "      <td>6</td>\n",
              "    </tr>\n",
              "  </tbody>\n",
              "</table>\n",
              "</div>\n",
              "    <div class=\"colab-df-buttons\">\n",
              "\n",
              "  <div class=\"colab-df-container\">\n",
              "    <button class=\"colab-df-convert\" onclick=\"convertToInteractive('df-74776584-d545-4442-b476-f5b028f20f60')\"\n",
              "            title=\"Convert this dataframe to an interactive table.\"\n",
              "            style=\"display:none;\">\n",
              "\n",
              "  <svg xmlns=\"http://www.w3.org/2000/svg\" height=\"24px\" viewBox=\"0 -960 960 960\">\n",
              "    <path d=\"M120-120v-720h720v720H120Zm60-500h600v-160H180v160Zm220 220h160v-160H400v160Zm0 220h160v-160H400v160ZM180-400h160v-160H180v160Zm440 0h160v-160H620v160ZM180-180h160v-160H180v160Zm440 0h160v-160H620v160Z\"/>\n",
              "  </svg>\n",
              "    </button>\n",
              "\n",
              "  <style>\n",
              "    .colab-df-container {\n",
              "      display:flex;\n",
              "      gap: 12px;\n",
              "    }\n",
              "\n",
              "    .colab-df-convert {\n",
              "      background-color: #E8F0FE;\n",
              "      border: none;\n",
              "      border-radius: 50%;\n",
              "      cursor: pointer;\n",
              "      display: none;\n",
              "      fill: #1967D2;\n",
              "      height: 32px;\n",
              "      padding: 0 0 0 0;\n",
              "      width: 32px;\n",
              "    }\n",
              "\n",
              "    .colab-df-convert:hover {\n",
              "      background-color: #E2EBFA;\n",
              "      box-shadow: 0px 1px 2px rgba(60, 64, 67, 0.3), 0px 1px 3px 1px rgba(60, 64, 67, 0.15);\n",
              "      fill: #174EA6;\n",
              "    }\n",
              "\n",
              "    .colab-df-buttons div {\n",
              "      margin-bottom: 4px;\n",
              "    }\n",
              "\n",
              "    [theme=dark] .colab-df-convert {\n",
              "      background-color: #3B4455;\n",
              "      fill: #D2E3FC;\n",
              "    }\n",
              "\n",
              "    [theme=dark] .colab-df-convert:hover {\n",
              "      background-color: #434B5C;\n",
              "      box-shadow: 0px 1px 3px 1px rgba(0, 0, 0, 0.15);\n",
              "      filter: drop-shadow(0px 1px 2px rgba(0, 0, 0, 0.3));\n",
              "      fill: #FFFFFF;\n",
              "    }\n",
              "  </style>\n",
              "\n",
              "    <script>\n",
              "      const buttonEl =\n",
              "        document.querySelector('#df-74776584-d545-4442-b476-f5b028f20f60 button.colab-df-convert');\n",
              "      buttonEl.style.display =\n",
              "        google.colab.kernel.accessAllowed ? 'block' : 'none';\n",
              "\n",
              "      async function convertToInteractive(key) {\n",
              "        const element = document.querySelector('#df-74776584-d545-4442-b476-f5b028f20f60');\n",
              "        const dataTable =\n",
              "          await google.colab.kernel.invokeFunction('convertToInteractive',\n",
              "                                                    [key], {});\n",
              "        if (!dataTable) return;\n",
              "\n",
              "        const docLinkHtml = 'Like what you see? Visit the ' +\n",
              "          '<a target=\"_blank\" href=https://colab.research.google.com/notebooks/data_table.ipynb>data table notebook</a>'\n",
              "          + ' to learn more about interactive tables.';\n",
              "        element.innerHTML = '';\n",
              "        dataTable['output_type'] = 'display_data';\n",
              "        await google.colab.output.renderOutput(dataTable, element);\n",
              "        const docLink = document.createElement('div');\n",
              "        docLink.innerHTML = docLinkHtml;\n",
              "        element.appendChild(docLink);\n",
              "      }\n",
              "    </script>\n",
              "  </div>\n",
              "\n",
              "\n",
              "<div id=\"df-3772535e-a227-4896-bae9-e7a05b9c5e73\">\n",
              "  <button class=\"colab-df-quickchart\" onclick=\"quickchart('df-3772535e-a227-4896-bae9-e7a05b9c5e73')\"\n",
              "            title=\"Suggest charts\"\n",
              "            style=\"display:none;\">\n",
              "\n",
              "<svg xmlns=\"http://www.w3.org/2000/svg\" height=\"24px\"viewBox=\"0 0 24 24\"\n",
              "     width=\"24px\">\n",
              "    <g>\n",
              "        <path d=\"M19 3H5c-1.1 0-2 .9-2 2v14c0 1.1.9 2 2 2h14c1.1 0 2-.9 2-2V5c0-1.1-.9-2-2-2zM9 17H7v-7h2v7zm4 0h-2V7h2v10zm4 0h-2v-4h2v4z\"/>\n",
              "    </g>\n",
              "</svg>\n",
              "  </button>\n",
              "\n",
              "<style>\n",
              "  .colab-df-quickchart {\n",
              "      --bg-color: #E8F0FE;\n",
              "      --fill-color: #1967D2;\n",
              "      --hover-bg-color: #E2EBFA;\n",
              "      --hover-fill-color: #174EA6;\n",
              "      --disabled-fill-color: #AAA;\n",
              "      --disabled-bg-color: #DDD;\n",
              "  }\n",
              "\n",
              "  [theme=dark] .colab-df-quickchart {\n",
              "      --bg-color: #3B4455;\n",
              "      --fill-color: #D2E3FC;\n",
              "      --hover-bg-color: #434B5C;\n",
              "      --hover-fill-color: #FFFFFF;\n",
              "      --disabled-bg-color: #3B4455;\n",
              "      --disabled-fill-color: #666;\n",
              "  }\n",
              "\n",
              "  .colab-df-quickchart {\n",
              "    background-color: var(--bg-color);\n",
              "    border: none;\n",
              "    border-radius: 50%;\n",
              "    cursor: pointer;\n",
              "    display: none;\n",
              "    fill: var(--fill-color);\n",
              "    height: 32px;\n",
              "    padding: 0;\n",
              "    width: 32px;\n",
              "  }\n",
              "\n",
              "  .colab-df-quickchart:hover {\n",
              "    background-color: var(--hover-bg-color);\n",
              "    box-shadow: 0 1px 2px rgba(60, 64, 67, 0.3), 0 1px 3px 1px rgba(60, 64, 67, 0.15);\n",
              "    fill: var(--button-hover-fill-color);\n",
              "  }\n",
              "\n",
              "  .colab-df-quickchart-complete:disabled,\n",
              "  .colab-df-quickchart-complete:disabled:hover {\n",
              "    background-color: var(--disabled-bg-color);\n",
              "    fill: var(--disabled-fill-color);\n",
              "    box-shadow: none;\n",
              "  }\n",
              "\n",
              "  .colab-df-spinner {\n",
              "    border: 2px solid var(--fill-color);\n",
              "    border-color: transparent;\n",
              "    border-bottom-color: var(--fill-color);\n",
              "    animation:\n",
              "      spin 1s steps(1) infinite;\n",
              "  }\n",
              "\n",
              "  @keyframes spin {\n",
              "    0% {\n",
              "      border-color: transparent;\n",
              "      border-bottom-color: var(--fill-color);\n",
              "      border-left-color: var(--fill-color);\n",
              "    }\n",
              "    20% {\n",
              "      border-color: transparent;\n",
              "      border-left-color: var(--fill-color);\n",
              "      border-top-color: var(--fill-color);\n",
              "    }\n",
              "    30% {\n",
              "      border-color: transparent;\n",
              "      border-left-color: var(--fill-color);\n",
              "      border-top-color: var(--fill-color);\n",
              "      border-right-color: var(--fill-color);\n",
              "    }\n",
              "    40% {\n",
              "      border-color: transparent;\n",
              "      border-right-color: var(--fill-color);\n",
              "      border-top-color: var(--fill-color);\n",
              "    }\n",
              "    60% {\n",
              "      border-color: transparent;\n",
              "      border-right-color: var(--fill-color);\n",
              "    }\n",
              "    80% {\n",
              "      border-color: transparent;\n",
              "      border-right-color: var(--fill-color);\n",
              "      border-bottom-color: var(--fill-color);\n",
              "    }\n",
              "    90% {\n",
              "      border-color: transparent;\n",
              "      border-bottom-color: var(--fill-color);\n",
              "    }\n",
              "  }\n",
              "</style>\n",
              "\n",
              "  <script>\n",
              "    async function quickchart(key) {\n",
              "      const quickchartButtonEl =\n",
              "        document.querySelector('#' + key + ' button');\n",
              "      quickchartButtonEl.disabled = true;  // To prevent multiple clicks.\n",
              "      quickchartButtonEl.classList.add('colab-df-spinner');\n",
              "      try {\n",
              "        const charts = await google.colab.kernel.invokeFunction(\n",
              "            'suggestCharts', [key], {});\n",
              "      } catch (error) {\n",
              "        console.error('Error during call to suggestCharts:', error);\n",
              "      }\n",
              "      quickchartButtonEl.classList.remove('colab-df-spinner');\n",
              "      quickchartButtonEl.classList.add('colab-df-quickchart-complete');\n",
              "    }\n",
              "    (() => {\n",
              "      let quickchartButtonEl =\n",
              "        document.querySelector('#df-3772535e-a227-4896-bae9-e7a05b9c5e73 button');\n",
              "      quickchartButtonEl.style.display =\n",
              "        google.colab.kernel.accessAllowed ? 'block' : 'none';\n",
              "    })();\n",
              "  </script>\n",
              "</div>\n",
              "\n",
              "    </div>\n",
              "  </div>\n"
            ],
            "application/vnd.google.colaboratory.intrinsic+json": {
              "type": "dataframe",
              "variable_name": "e_data",
              "summary": "{\n  \"name\": \"e_data\",\n  \"rows\": 80,\n  \"fields\": [\n    {\n      \"column\": \"Date\",\n      \"properties\": {\n        \"dtype\": \"date\",\n        \"min\": \"2014-03-22 00:00:00\",\n        \"max\": \"2014-11-12 00:00:00\",\n        \"num_unique_values\": 80,\n        \"samples\": [\n          \"2014-06-05 00:00:00\",\n          \"2014-03-22 00:00:00\",\n          \"2014-05-02 00:00:00\"\n        ],\n        \"semantic_type\": \"\",\n        \"description\": \"\"\n      }\n    },\n    {\n      \"column\": \"Cases\",\n      \"properties\": {\n        \"dtype\": \"number\",\n        \"std\": 4064,\n        \"min\": 49,\n        \"max\": 14413,\n        \"num_unique_values\": 78,\n        \"samples\": [\n          528,\n          49,\n          581\n        ],\n        \"semantic_type\": \"\",\n        \"description\": \"\"\n      }\n    },\n    {\n      \"column\": \"Death\",\n      \"properties\": {\n        \"dtype\": \"number\",\n        \"std\": 1679,\n        \"min\": 29,\n        \"max\": 5498,\n        \"num_unique_values\": 77,\n        \"samples\": [\n          72,\n          467,\n          111\n        ],\n        \"semantic_type\": \"\",\n        \"description\": \"\"\n      }\n    },\n    {\n      \"column\": \"Diff\",\n      \"properties\": {\n        \"dtype\": \"number\",\n        \"std\": 4691,\n        \"min\": -41955,\n        \"max\": 20,\n        \"num_unique_values\": 11,\n        \"samples\": [\n          20,\n          2,\n          9\n        ],\n        \"semantic_type\": \"\",\n        \"description\": \"\"\n      }\n    },\n    {\n      \"column\": \"Noofdays\",\n      \"properties\": {\n        \"dtype\": \"number\",\n        \"std\": 71,\n        \"min\": 1,\n        \"max\": 236,\n        \"num_unique_values\": 80,\n        \"samples\": [\n          76,\n          1,\n          42\n        ],\n        \"semantic_type\": \"\",\n        \"description\": \"\"\n      }\n    }\n  ]\n}"
            }
          },
          "metadata": {},
          "execution_count": 14
        }
      ]
    },
    {
      "cell_type": "code",
      "source": [
        "#Generate New Date Range a\"nd Autofill with NaN\n",
        "date_range = peacepd.date_range(start=dates.min(), end=dates.max())\n",
        "date_range_df = peacepd.DataFrame(date_range, columns =[\"Date\"])\n",
        "new_ebola_df = peacepd.merge(e_data, date_range_df , how=\"right\", on=[\"Date\"])\n",
        "new_ebola_df = new_ebola_df.iloc[ : , [0,1,2] ]\n",
        "\n",
        "#Interpolation\n",
        "new_ebola_df = new_ebola_df.interpolate()\n",
        "new_ebola_df.tail()\n",
        "peaceplt.plot(new_ebola_df[\"Date\"], new_ebola_df[\"Cases\"])\n",
        "peaceplt.plot(new_ebola_df[\"Date\"], new_ebola_df[\"Death\"])\n",
        "peaceplt.xticks(rotation = 45)\n",
        "\n",
        "thresholds = [100, 500, 1000, 2000, 5000]\n",
        "dates = []\n",
        "\n",
        "def get_thresholds(thresholds, column_name):\n",
        "  for each_threshold in thresholds:\n",
        "    greater_threshold = new_ebola_df[new_ebola_df[column_name] >= each_threshold]\n",
        "    greater_threshold_date = greater_threshold[\"Date\"].iloc[0]\n",
        "    greater_threshold_value = greater_threshold[column_name].iloc[0]\n",
        "    dates.append(greater_threshold_date)\n",
        "\n",
        "    if(column_name == \"Cases\"):\n",
        "      peaceplt.plot(greater_threshold_date, greater_threshold_value, 'gd', label=f\"{column_name} >= {each_threshold}\")\n",
        "    else:\n",
        "      peaceplt.plot(greater_threshold_date, greater_threshold_value, 'rs', label=f\"{column_name} >= {each_threshold}\")\n",
        "  return dates\n",
        "\n",
        "case_dates = peacepd.DataFrame(get_thresholds(thresholds, \"Cases\"))\n",
        "death_dates = peacepd.DataFrame(get_thresholds(thresholds, \"Death\"))\n",
        "\n",
        "# print(case_dates)\n",
        "print(f\"The Threshold Dates are listed below \\n{death_dates}\")"
      ],
      "metadata": {
        "colab": {
          "base_uri": "https://localhost:8080/",
          "height": 675
        },
        "id": "8TVYY7TQf_dj",
        "outputId": "0578ba5d-c935-4eeb-ff20-947b26ee9537"
      },
      "execution_count": 15,
      "outputs": [
        {
          "output_type": "stream",
          "name": "stdout",
          "text": [
            "The Threshold Dates are listed below \n",
            "           0\n",
            "0 2014-03-27\n",
            "1 2014-06-13\n",
            "2 2014-07-15\n",
            "3 2014-08-12\n",
            "4 2014-09-12\n",
            "5 2014-04-06\n",
            "6 2014-07-05\n",
            "7 2014-08-09\n",
            "8 2014-09-03\n",
            "9 2014-10-24\n"
          ]
        },
        {
          "output_type": "display_data",
          "data": {
            "text/plain": [
              "<Figure size 640x480 with 1 Axes>"
            ],
            "image/png": "[encoded data removed]"
          },
          "metadata": {}
        }
      ]
    },
    {
      "cell_type": "markdown",
      "source": [
        "# **Question 7 - Average Growth Rate per day**"
      ],
      "metadata": {
        "id": "ag0P7-ctEFDd"
      }
    },
    {
      "cell_type": "code",
      "source": [
        "pct_cases_death = new_ebola_df[[\"Cases\", \"Death\"]].pct_change()\n",
        "pct_cases_death.head()\n",
        "\n",
        "average = {}\n",
        "\n",
        "average['Cases'] = pct_cases_death.mean()['Cases'] * 100\n",
        "average['Death'] = (pct_cases_death.mean()['Death'] * 100)\n",
        "\n",
        "print(average)"
      ],
      "metadata": {
        "id": "vRS_vqbNFMv8",
        "colab": {
          "base_uri": "https://localhost:8080/"
        },
        "outputId": "e39c5776-4c0d-45e1-b1ee-533bfca94ca9"
      },
      "execution_count": 16,
      "outputs": [
        {
          "output_type": "stream",
          "name": "stdout",
          "text": [
            "{'Cases': 2.5065218916499954, 'Death': 2.3306080833679683}\n"
          ]
        }
      ]
    },
    {
      "cell_type": "markdown",
      "source": [
        "# **Question 8 - Deaths versus Cases**"
      ],
      "metadata": {
        "id": "-ReqHZMaddzW"
      }
    },
    {
      "cell_type": "code",
      "source": [
        "death_cases = new_ebola_df[[\"Cases\", \"Death\"]]\n",
        "\n",
        "death_cases['Death Ratio'] = (death_cases['Death'] / death_cases['Cases'])\n",
        "death_ratio = death_cases['Death Ratio'].mean()\n",
        "print(death_ratio)\n",
        "\n",
        "peaceplt.plot(death_cases['Cases'], death_cases['Death'], label=f\"Average Ratio of Ebola Deaths to Cases\")\n",
        "\n",
        "peaceplt.xlabel(\"Cases\")\n",
        "peaceplt.ylabel(\"Deaths\")\n",
        "peaceplt.title(\"Average Ratio of Ebola Deaths to Cases\")\n",
        "peaceplt.legend()\n",
        "\n",
        "peaceplt.draw()\n",
        "peaceplt.pause(0.5)\n",
        "\n",
        "peaceplt.show()"
      ],
      "metadata": {
        "colab": {
          "base_uri": "https://localhost:8080/",
          "height": 489
        },
        "id": "Sd6o8xPfZtMO",
        "outputId": "855c149e-5fe7-480a-988d-566aa46deb29"
      },
      "execution_count": 17,
      "outputs": [
        {
          "output_type": "stream",
          "name": "stdout",
          "text": [
            "0.5577992908998353\n"
          ]
        },
        {
          "output_type": "display_data",
          "data": {
            "text/plain": [
              "<Figure size 640x480 with 1 Axes>"
            ],
            "image/png": "[encoded data removed]"
          },
          "metadata": {}
        }
      ]
    },
    {
      "cell_type": "markdown",
      "source": [
        "# **Question 9**"
      ],
      "metadata": {
        "id": "h1B_4habmAhl"
      }
    },
    {
      "cell_type": "code",
      "source": [
        "# Read data\n",
        "spy_data = peacepd.read_csv('SPY.csv')\n",
        "tlt_data = peacepd.read_csv('TLT.csv')"
      ],
      "metadata": {
        "id": "LEpnfrOWd7VK"
      },
      "execution_count": 18,
      "outputs": []
    },
    {
      "cell_type": "code",
      "source": [
        "# spy_data.head()\n",
        "adj_close_df = spy_data[['Date', 'Adj Close']]\n",
        "\n",
        "def adjust_close_to_hundred(df):\n",
        "  df['adjusted'] = df['Adj Close'] / df['Adj Close'].iloc[0] * 100\n",
        "  return df\n",
        "\n",
        "spy_adj_close_df = adjust_close_to_hundred(adj_close_df)\n",
        "spy_adj_close_df.head()"
      ],
      "metadata": {
        "colab": {
          "base_uri": "https://localhost:8080/",
          "height": 310
        },
        "id": "ckj2HymFJKSW",
        "outputId": "7606c0a9-c9e0-4848-a991-be3b76cb1850"
      },
      "execution_count": 19,
      "outputs": [
        {
          "output_type": "stream",
          "name": "stderr",
          "text": [
            "<ipython-input-19-b365b31d620a>:5: SettingWithCopyWarning: \n",
            "A value is trying to be set on a copy of a slice from a DataFrame.\n",
            "Try using .loc[row_indexer,col_indexer] = value instead\n",
            "\n",
            "See the caveats in the documentation: https://pandas.pydata.org/pandas-docs/stable/user_guide/indexing.html#returning-a-view-versus-a-copy\n",
            "  df['adjusted'] = df['Adj Close'] / df['Adj Close'].iloc[0] * 100\n"
          ]
        },
        {
          "output_type": "execute_result",
          "data": {
            "text/plain": [
              "         Date   Adj Close    adjusted\n",
              "0  2013-12-31  157.853638  100.000000\n",
              "1  2014-01-02  156.340836   99.041643\n",
              "2  2014-01-03  156.315201   99.025403\n",
              "3  2014-01-06  155.862137   98.738388\n",
              "4  2014-01-07  156.819412   99.344820"
            ],
            "text/html": [
              "\n",
              "  <div id=\"df-ddf23758-97cf-49fc-8577-098160908238\" class=\"colab-df-container\">\n",
              "    <div>\n",
              "<style scoped>\n",
              "    .dataframe tbody tr th:only-of-type {\n",
              "        vertical-align: middle;\n",
              "    }\n",
              "\n",
              "    .dataframe tbody tr th {\n",
              "        vertical-align: top;\n",
              "    }\n",
              "\n",
              "    .dataframe thead th {\n",
              "        text-align: right;\n",
              "    }\n",
              "</style>\n",
              "<table border=\"1\" class=\"dataframe\">\n",
              "  <thead>\n",
              "    <tr style=\"text-align: right;\">\n",
              "      <th></th>\n",
              "      <th>Date</th>\n",
              "      <th>Adj Close</th>\n",
              "      <th>adjusted</th>\n",
              "    </tr>\n",
              "  </thead>\n",
              "  <tbody>\n",
              "    <tr>\n",
              "      <th>0</th>\n",
              "      <td>2013-12-31</td>\n",
              "      <td>157.853638</td>\n",
              "      <td>100.000000</td>\n",
              "    </tr>\n",
              "    <tr>\n",
              "      <th>1</th>\n",
              "      <td>2014-01-02</td>\n",
              "      <td>156.340836</td>\n",
              "      <td>99.041643</td>\n",
              "    </tr>\n",
              "    <tr>\n",
              "      <th>2</th>\n",
              "      <td>2014-01-03</td>\n",
              "      <td>156.315201</td>\n",
              "      <td>99.025403</td>\n",
              "    </tr>\n",
              "    <tr>\n",
              "      <th>3</th>\n",
              "      <td>2014-01-06</td>\n",
              "      <td>155.862137</td>\n",
              "      <td>98.738388</td>\n",
              "    </tr>\n",
              "    <tr>\n",
              "      <th>4</th>\n",
              "      <td>2014-01-07</td>\n",
              "      <td>156.819412</td>\n",
              "      <td>99.344820</td>\n",
              "    </tr>\n",
              "  </tbody>\n",
              "</table>\n",
              "</div>\n",
              "    <div class=\"colab-df-buttons\">\n",
              "\n",
              "  <div class=\"colab-df-container\">\n",
              "    <button class=\"colab-df-convert\" onclick=\"convertToInteractive('df-ddf23758-97cf-49fc-8577-098160908238')\"\n",
              "            title=\"Convert this dataframe to an interactive table.\"\n",
              "            style=\"display:none;\">\n",
              "\n",
              "  <svg xmlns=\"http://www.w3.org/2000/svg\" height=\"24px\" viewBox=\"0 -960 960 960\">\n",
              "    <path d=\"M120-120v-720h720v720H120Zm60-500h600v-160H180v160Zm220 220h160v-160H400v160Zm0 220h160v-160H400v160ZM180-400h160v-160H180v160Zm440 0h160v-160H620v160ZM180-180h160v-160H180v160Zm440 0h160v-160H620v160Z\"/>\n",
              "  </svg>\n",
              "    </button>\n",
              "\n",
              "  <style>\n",
              "    .colab-df-container {\n",
              "      display:flex;\n",
              "      gap: 12px;\n",
              "    }\n",
              "\n",
              "    .colab-df-convert {\n",
              "      background-color: #E8F0FE;\n",
              "      border: none;\n",
              "      border-radius: 50%;\n",
              "      cursor: pointer;\n",
              "      display: none;\n",
              "      fill: #1967D2;\n",
              "      height: 32px;\n",
              "      padding: 0 0 0 0;\n",
              "      width: 32px;\n",
              "    }\n",
              "\n",
              "    .colab-df-convert:hover {\n",
              "      background-color: #E2EBFA;\n",
              "      box-shadow: 0px 1px 2px rgba(60, 64, 67, 0.3), 0px 1px 3px 1px rgba(60, 64, 67, 0.15);\n",
              "      fill: #174EA6;\n",
              "    }\n",
              "\n",
              "    .colab-df-buttons div {\n",
              "      margin-bottom: 4px;\n",
              "    }\n",
              "\n",
              "    [theme=dark] .colab-df-convert {\n",
              "      background-color: #3B4455;\n",
              "      fill: #D2E3FC;\n",
              "    }\n",
              "\n",
              "    [theme=dark] .colab-df-convert:hover {\n",
              "      background-color: #434B5C;\n",
              "      box-shadow: 0px 1px 3px 1px rgba(0, 0, 0, 0.15);\n",
              "      filter: drop-shadow(0px 1px 2px rgba(0, 0, 0, 0.3));\n",
              "      fill: #FFFFFF;\n",
              "    }\n",
              "  </style>\n",
              "\n",
              "    <script>\n",
              "      const buttonEl =\n",
              "        document.querySelector('#df-ddf23758-97cf-49fc-8577-098160908238 button.colab-df-convert');\n",
              "      buttonEl.style.display =\n",
              "        google.colab.kernel.accessAllowed ? 'block' : 'none';\n",
              "\n",
              "      async function convertToInteractive(key) {\n",
              "        const element = document.querySelector('#df-ddf23758-97cf-49fc-8577-098160908238');\n",
              "        const dataTable =\n",
              "          await google.colab.kernel.invokeFunction('convertToInteractive',\n",
              "                                                    [key], {});\n",
              "        if (!dataTable) return;\n",
              "\n",
              "        const docLinkHtml = 'Like what you see? Visit the ' +\n",
              "          '<a target=\"_blank\" href=https://colab.research.google.com/notebooks/data_table.ipynb>data table notebook</a>'\n",
              "          + ' to learn more about interactive tables.';\n",
              "        element.innerHTML = '';\n",
              "        dataTable['output_type'] = 'display_data';\n",
              "        await google.colab.output.renderOutput(dataTable, element);\n",
              "        const docLink = document.createElement('div');\n",
              "        docLink.innerHTML = docLinkHtml;\n",
              "        element.appendChild(docLink);\n",
              "      }\n",
              "    </script>\n",
              "  </div>\n",
              "\n",
              "\n",
              "<div id=\"df-1f5ff6a5-b2d5-4766-a979-7bef93789940\">\n",
              "  <button class=\"colab-df-quickchart\" onclick=\"quickchart('df-1f5ff6a5-b2d5-4766-a979-7bef93789940')\"\n",
              "            title=\"Suggest charts\"\n",
              "            style=\"display:none;\">\n",
              "\n",
              "<svg xmlns=\"http://www.w3.org/2000/svg\" height=\"24px\"viewBox=\"0 0 24 24\"\n",
              "     width=\"24px\">\n",
              "    <g>\n",
              "        <path d=\"M19 3H5c-1.1 0-2 .9-2 2v14c0 1.1.9 2 2 2h14c1.1 0 2-.9 2-2V5c0-1.1-.9-2-2-2zM9 17H7v-7h2v7zm4 0h-2V7h2v10zm4 0h-2v-4h2v4z\"/>\n",
              "    </g>\n",
              "</svg>\n",
              "  </button>\n",
              "\n",
              "<style>\n",
              "  .colab-df-quickchart {\n",
              "      --bg-color: #E8F0FE;\n",
              "      --fill-color: #1967D2;\n",
              "      --hover-bg-color: #E2EBFA;\n",
              "      --hover-fill-color: #174EA6;\n",
              "      --disabled-fill-color: #AAA;\n",
              "      --disabled-bg-color: #DDD;\n",
              "  }\n",
              "\n",
              "  [theme=dark] .colab-df-quickchart {\n",
              "      --bg-color: #3B4455;\n",
              "      --fill-color: #D2E3FC;\n",
              "      --hover-bg-color: #434B5C;\n",
              "      --hover-fill-color: #FFFFFF;\n",
              "      --disabled-bg-color: #3B4455;\n",
              "      --disabled-fill-color: #666;\n",
              "  }\n",
              "\n",
              "  .colab-df-quickchart {\n",
              "    background-color: var(--bg-color);\n",
              "    border: none;\n",
              "    border-radius: 50%;\n",
              "    cursor: pointer;\n",
              "    display: none;\n",
              "    fill: var(--fill-color);\n",
              "    height: 32px;\n",
              "    padding: 0;\n",
              "    width: 32px;\n",
              "  }\n",
              "\n",
              "  .colab-df-quickchart:hover {\n",
              "    background-color: var(--hover-bg-color);\n",
              "    box-shadow: 0 1px 2px rgba(60, 64, 67, 0.3), 0 1px 3px 1px rgba(60, 64, 67, 0.15);\n",
              "    fill: var(--button-hover-fill-color);\n",
              "  }\n",
              "\n",
              "  .colab-df-quickchart-complete:disabled,\n",
              "  .colab-df-quickchart-complete:disabled:hover {\n",
              "    background-color: var(--disabled-bg-color);\n",
              "    fill: var(--disabled-fill-color);\n",
              "    box-shadow: none;\n",
              "  }\n",
              "\n",
              "  .colab-df-spinner {\n",
              "    border: 2px solid var(--fill-color);\n",
              "    border-color: transparent;\n",
              "    border-bottom-color: var(--fill-color);\n",
              "    animation:\n",
              "      spin 1s steps(1) infinite;\n",
              "  }\n",
              "\n",
              "  @keyframes spin {\n",
              "    0% {\n",
              "      border-color: transparent;\n",
              "      border-bottom-color: var(--fill-color);\n",
              "      border-left-color: var(--fill-color);\n",
              "    }\n",
              "    20% {\n",
              "      border-color: transparent;\n",
              "      border-left-color: var(--fill-color);\n",
              "      border-top-color: var(--fill-color);\n",
              "    }\n",
              "    30% {\n",
              "      border-color: transparent;\n",
              "      border-left-color: var(--fill-color);\n",
              "      border-top-color: var(--fill-color);\n",
              "      border-right-color: var(--fill-color);\n",
              "    }\n",
              "    40% {\n",
              "      border-color: transparent;\n",
              "      border-right-color: var(--fill-color);\n",
              "      border-top-color: var(--fill-color);\n",
              "    }\n",
              "    60% {\n",
              "      border-color: transparent;\n",
              "      border-right-color: var(--fill-color);\n",
              "    }\n",
              "    80% {\n",
              "      border-color: transparent;\n",
              "      border-right-color: var(--fill-color);\n",
              "      border-bottom-color: var(--fill-color);\n",
              "    }\n",
              "    90% {\n",
              "      border-color: transparent;\n",
              "      border-bottom-color: var(--fill-color);\n",
              "    }\n",
              "  }\n",
              "</style>\n",
              "\n",
              "  <script>\n",
              "    async function quickchart(key) {\n",
              "      const quickchartButtonEl =\n",
              "        document.querySelector('#' + key + ' button');\n",
              "      quickchartButtonEl.disabled = true;  // To prevent multiple clicks.\n",
              "      quickchartButtonEl.classList.add('colab-df-spinner');\n",
              "      try {\n",
              "        const charts = await google.colab.kernel.invokeFunction(\n",
              "            'suggestCharts', [key], {});\n",
              "      } catch (error) {\n",
              "        console.error('Error during call to suggestCharts:', error);\n",
              "      }\n",
              "      quickchartButtonEl.classList.remove('colab-df-spinner');\n",
              "      quickchartButtonEl.classList.add('colab-df-quickchart-complete');\n",
              "    }\n",
              "    (() => {\n",
              "      let quickchartButtonEl =\n",
              "        document.querySelector('#df-1f5ff6a5-b2d5-4766-a979-7bef93789940 button');\n",
              "      quickchartButtonEl.style.display =\n",
              "        google.colab.kernel.accessAllowed ? 'block' : 'none';\n",
              "    })();\n",
              "  </script>\n",
              "</div>\n",
              "\n",
              "    </div>\n",
              "  </div>\n"
            ],
            "application/vnd.google.colaboratory.intrinsic+json": {
              "type": "dataframe",
              "variable_name": "spy_adj_close_df",
              "summary": "{\n  \"name\": \"spy_adj_close_df\",\n  \"rows\": 420,\n  \"fields\": [\n    {\n      \"column\": \"Date\",\n      \"properties\": {\n        \"dtype\": \"object\",\n        \"num_unique_values\": 420,\n        \"samples\": [\n          \"2014-07-30\",\n          \"2015-04-30\",\n          \"2014-09-11\"\n        ],\n        \"semantic_type\": \"\",\n        \"description\": \"\"\n      }\n    },\n    {\n      \"column\": \"Adj Close\",\n      \"properties\": {\n        \"dtype\": \"number\",\n        \"std\": 10.022634127035055,\n        \"min\": 148.862228,\n        \"max\": 186.982086,\n        \"num_unique_values\": 410,\n        \"samples\": [\n          172.930237,\n          170.549515,\n          169.272873\n        ],\n        \"semantic_type\": \"\",\n        \"description\": \"\"\n      }\n    },\n    {\n      \"column\": \"adjusted\",\n      \"properties\": {\n        \"dtype\": \"number\",\n        \"std\": 6.349320962140293,\n        \"min\": 94.3039576952924,\n        \"max\": 118.45282020044417,\n        \"num_unique_values\": 410,\n        \"samples\": [\n          109.55099875493526,\n          108.04281558591637,\n          107.234065140773\n        ],\n        \"semantic_type\": \"\",\n        \"description\": \"\"\n      }\n    }\n  ]\n}"
            }
          },
          "metadata": {},
          "execution_count": 19
        }
      ]
    },
    {
      "cell_type": "code",
      "source": [
        "# tlt_data.head()\n",
        "tlt_adj_close_df = tlt_data[['Date', 'Adj Close']]\n",
        "\n",
        "tlt_adj_close_df = adjust_close_to_hundred(tlt_adj_close_df)"
      ],
      "metadata": {
        "colab": {
          "base_uri": "https://localhost:8080/"
        },
        "id": "hAl-EZZ6O9r9",
        "outputId": "97c645cf-6f13-4de7-dfdf-bb8117f2ed1d"
      },
      "execution_count": 20,
      "outputs": [
        {
          "output_type": "stream",
          "name": "stderr",
          "text": [
            "<ipython-input-19-b365b31d620a>:5: SettingWithCopyWarning: \n",
            "A value is trying to be set on a copy of a slice from a DataFrame.\n",
            "Try using .loc[row_indexer,col_indexer] = value instead\n",
            "\n",
            "See the caveats in the documentation: https://pandas.pydata.org/pandas-docs/stable/user_guide/indexing.html#returning-a-view-versus-a-copy\n",
            "  df['adjusted'] = df['Adj Close'] / df['Adj Close'].iloc[0] * 100\n"
          ]
        }
      ]
    },
    {
      "cell_type": "code",
      "source": [
        "# Plot the graph\n",
        "peaceplt.plot(peacepd.to_datetime(spy_adj_close_df['Date']), spy_adj_close_df['adjusted'], label=f\"S&P500 Index - SPY\")\n",
        "peaceplt.plot(peacepd.to_datetime(tlt_adj_close_df['Date']), tlt_adj_close_df['adjusted'], label=f\"Long Term Treasury Bond - TLT \")\n",
        "\n",
        "\n",
        "peaceplt.xlabel(\"Date\")\n",
        "peaceplt.ylabel(\"Prices ($)\")\n",
        "peaceplt.title(\"Comparing the Two time series from Prices of $100 on the first day in 12/31/2013 - 08/31/2015\")\n",
        "peaceplt.legend()\n",
        "peaceplt.xticks(rotation = 45)\n",
        "\n",
        "peaceplt.draw()\n",
        "\n",
        "peaceplt.show()"
      ],
      "metadata": {
        "colab": {
          "base_uri": "https://localhost:8080/",
          "height": 508
        },
        "id": "psRwqunONFbC",
        "outputId": "6f75e530-c650-4e2b-a8f3-0384ac4f2271"
      },
      "execution_count": 21,
      "outputs": [
        {
          "output_type": "display_data",
          "data": {
            "text/plain": [
              "<Figure size 640x480 with 1 Axes>"
            ],
            "image/png": "[encoded data removed]"
          },
          "metadata": {}
        }
      ]
    },
    {
      "cell_type": "code",
      "source": [
        "tlt_data.head()"
      ],
      "metadata": {
        "colab": {
          "base_uri": "https://localhost:8080/",
          "height": 206
        },
        "id": "mKRrJuhHJMh1",
        "outputId": "1a288000-f673-4668-dcd7-de344a786130"
      },
      "execution_count": 22,
      "outputs": [
        {
          "output_type": "execute_result",
          "data": {
            "text/plain": [
              "         Date        Open        High         Low       Close  Adj Close  \\\n",
              "0  2013-12-31  102.290001  102.550003  101.169998  101.860001  83.814583   \n",
              "1  2014-01-02  101.720001  102.389999  101.690002  102.169998  84.069664   \n",
              "2  2014-01-03  101.809998  102.449997  101.760002  102.169998  84.069664   \n",
              "3  2014-01-06  102.379997  103.000000  102.370003  102.599998  84.423508   \n",
              "4  2014-01-07  102.820000  102.989998  102.559998  102.860001  84.637466   \n",
              "\n",
              "    Volume  \n",
              "0  7218600  \n",
              "1  8580800  \n",
              "2  4083800  \n",
              "3  7796200  \n",
              "4  4428100  "
            ],
            "text/html": [
              "\n",
              "  <div id=\"df-da5ffcfa-49b0-4d67-a6c6-3b1df4665d7b\" class=\"colab-df-container\">\n",
              "    <div>\n",
              "<style scoped>\n",
              "    .dataframe tbody tr th:only-of-type {\n",
              "        vertical-align: middle;\n",
              "    }\n",
              "\n",
              "    .dataframe tbody tr th {\n",
              "        vertical-align: top;\n",
              "    }\n",
              "\n",
              "    .dataframe thead th {\n",
              "        text-align: right;\n",
              "    }\n",
              "</style>\n",
              "<table border=\"1\" class=\"dataframe\">\n",
              "  <thead>\n",
              "    <tr style=\"text-align: right;\">\n",
              "      <th></th>\n",
              "      <th>Date</th>\n",
              "      <th>Open</th>\n",
              "      <th>High</th>\n",
              "      <th>Low</th>\n",
              "      <th>Close</th>\n",
              "      <th>Adj Close</th>\n",
              "      <th>Volume</th>\n",
              "    </tr>\n",
              "  </thead>\n",
              "  <tbody>\n",
              "    <tr>\n",
              "      <th>0</th>\n",
              "      <td>2013-12-31</td>\n",
              "      <td>102.290001</td>\n",
              "      <td>102.550003</td>\n",
              "      <td>101.169998</td>\n",
              "      <td>101.860001</td>\n",
              "      <td>83.814583</td>\n",
              "      <td>7218600</td>\n",
              "    </tr>\n",
              "    <tr>\n",
              "      <th>1</th>\n",
              "      <td>2014-01-02</td>\n",
              "      <td>101.720001</td>\n",
              "      <td>102.389999</td>\n",
              "      <td>101.690002</td>\n",
              "      <td>102.169998</td>\n",
              "      <td>84.069664</td>\n",
              "      <td>8580800</td>\n",
              "    </tr>\n",
              "    <tr>\n",
              "      <th>2</th>\n",
              "      <td>2014-01-03</td>\n",
              "      <td>101.809998</td>\n",
              "      <td>102.449997</td>\n",
              "      <td>101.760002</td>\n",
              "      <td>102.169998</td>\n",
              "      <td>84.069664</td>\n",
              "      <td>4083800</td>\n",
              "    </tr>\n",
              "    <tr>\n",
              "      <th>3</th>\n",
              "      <td>2014-01-06</td>\n",
              "      <td>102.379997</td>\n",
              "      <td>103.000000</td>\n",
              "      <td>102.370003</td>\n",
              "      <td>102.599998</td>\n",
              "      <td>84.423508</td>\n",
              "      <td>7796200</td>\n",
              "    </tr>\n",
              "    <tr>\n",
              "      <th>4</th>\n",
              "      <td>2014-01-07</td>\n",
              "      <td>102.820000</td>\n",
              "      <td>102.989998</td>\n",
              "      <td>102.559998</td>\n",
              "      <td>102.860001</td>\n",
              "      <td>84.637466</td>\n",
              "      <td>4428100</td>\n",
              "    </tr>\n",
              "  </tbody>\n",
              "</table>\n",
              "</div>\n",
              "    <div class=\"colab-df-buttons\">\n",
              "\n",
              "  <div class=\"colab-df-container\">\n",
              "    <button class=\"colab-df-convert\" onclick=\"convertToInteractive('df-da5ffcfa-49b0-4d67-a6c6-3b1df4665d7b')\"\n",
              "            title=\"Convert this dataframe to an interactive table.\"\n",
              "            style=\"display:none;\">\n",
              "\n",
              "  <svg xmlns=\"http://www.w3.org/2000/svg\" height=\"24px\" viewBox=\"0 -960 960 960\">\n",
              "    <path d=\"M120-120v-720h720v720H120Zm60-500h600v-160H180v160Zm220 220h160v-160H400v160Zm0 220h160v-160H400v160ZM180-400h160v-160H180v160Zm440 0h160v-160H620v160ZM180-180h160v-160H180v160Zm440 0h160v-160H620v160Z\"/>\n",
              "  </svg>\n",
              "    </button>\n",
              "\n",
              "  <style>\n",
              "    .colab-df-container {\n",
              "      display:flex;\n",
              "      gap: 12px;\n",
              "    }\n",
              "\n",
              "    .colab-df-convert {\n",
              "      background-color: #E8F0FE;\n",
              "      border: none;\n",
              "      border-radius: 50%;\n",
              "      cursor: pointer;\n",
              "      display: none;\n",
              "      fill: #1967D2;\n",
              "      height: 32px;\n",
              "      padding: 0 0 0 0;\n",
              "      width: 32px;\n",
              "    }\n",
              "\n",
              "    .colab-df-convert:hover {\n",
              "      background-color: #E2EBFA;\n",
              "      box-shadow: 0px 1px 2px rgba(60, 64, 67, 0.3), 0px 1px 3px 1px rgba(60, 64, 67, 0.15);\n",
              "      fill: #174EA6;\n",
              "    }\n",
              "\n",
              "    .colab-df-buttons div {\n",
              "      margin-bottom: 4px;\n",
              "    }\n",
              "\n",
              "    [theme=dark] .colab-df-convert {\n",
              "      background-color: #3B4455;\n",
              "      fill: #D2E3FC;\n",
              "    }\n",
              "\n",
              "    [theme=dark] .colab-df-convert:hover {\n",
              "      background-color: #434B5C;\n",
              "      box-shadow: 0px 1px 3px 1px rgba(0, 0, 0, 0.15);\n",
              "      filter: drop-shadow(0px 1px 2px rgba(0, 0, 0, 0.3));\n",
              "      fill: #FFFFFF;\n",
              "    }\n",
              "  </style>\n",
              "\n",
              "    <script>\n",
              "      const buttonEl =\n",
              "        document.querySelector('#df-da5ffcfa-49b0-4d67-a6c6-3b1df4665d7b button.colab-df-convert');\n",
              "      buttonEl.style.display =\n",
              "        google.colab.kernel.accessAllowed ? 'block' : 'none';\n",
              "\n",
              "      async function convertToInteractive(key) {\n",
              "        const element = document.querySelector('#df-da5ffcfa-49b0-4d67-a6c6-3b1df4665d7b');\n",
              "        const dataTable =\n",
              "          await google.colab.kernel.invokeFunction('convertToInteractive',\n",
              "                                                    [key], {});\n",
              "        if (!dataTable) return;\n",
              "\n",
              "        const docLinkHtml = 'Like what you see? Visit the ' +\n",
              "          '<a target=\"_blank\" href=https://colab.research.google.com/notebooks/data_table.ipynb>data table notebook</a>'\n",
              "          + ' to learn more about interactive tables.';\n",
              "        element.innerHTML = '';\n",
              "        dataTable['output_type'] = 'display_data';\n",
              "        await google.colab.output.renderOutput(dataTable, element);\n",
              "        const docLink = document.createElement('div');\n",
              "        docLink.innerHTML = docLinkHtml;\n",
              "        element.appendChild(docLink);\n",
              "      }\n",
              "    </script>\n",
              "  </div>\n",
              "\n",
              "\n",
              "<div id=\"df-9381d9cd-f8f4-487b-9b81-27c132148414\">\n",
              "  <button class=\"colab-df-quickchart\" onclick=\"quickchart('df-9381d9cd-f8f4-487b-9b81-27c132148414')\"\n",
              "            title=\"Suggest charts\"\n",
              "            style=\"display:none;\">\n",
              "\n",
              "<svg xmlns=\"http://www.w3.org/2000/svg\" height=\"24px\"viewBox=\"0 0 24 24\"\n",
              "     width=\"24px\">\n",
              "    <g>\n",
              "        <path d=\"M19 3H5c-1.1 0-2 .9-2 2v14c0 1.1.9 2 2 2h14c1.1 0 2-.9 2-2V5c0-1.1-.9-2-2-2zM9 17H7v-7h2v7zm4 0h-2V7h2v10zm4 0h-2v-4h2v4z\"/>\n",
              "    </g>\n",
              "</svg>\n",
              "  </button>\n",
              "\n",
              "<style>\n",
              "  .colab-df-quickchart {\n",
              "      --bg-color: #E8F0FE;\n",
              "      --fill-color: #1967D2;\n",
              "      --hover-bg-color: #E2EBFA;\n",
              "      --hover-fill-color: #174EA6;\n",
              "      --disabled-fill-color: #AAA;\n",
              "      --disabled-bg-color: #DDD;\n",
              "  }\n",
              "\n",
              "  [theme=dark] .colab-df-quickchart {\n",
              "      --bg-color: #3B4455;\n",
              "      --fill-color: #D2E3FC;\n",
              "      --hover-bg-color: #434B5C;\n",
              "      --hover-fill-color: #FFFFFF;\n",
              "      --disabled-bg-color: #3B4455;\n",
              "      --disabled-fill-color: #666;\n",
              "  }\n",
              "\n",
              "  .colab-df-quickchart {\n",
              "    background-color: var(--bg-color);\n",
              "    border: none;\n",
              "    border-radius: 50%;\n",
              "    cursor: pointer;\n",
              "    display: none;\n",
              "    fill: var(--fill-color);\n",
              "    height: 32px;\n",
              "    padding: 0;\n",
              "    width: 32px;\n",
              "  }\n",
              "\n",
              "  .colab-df-quickchart:hover {\n",
              "    background-color: var(--hover-bg-color);\n",
              "    box-shadow: 0 1px 2px rgba(60, 64, 67, 0.3), 0 1px 3px 1px rgba(60, 64, 67, 0.15);\n",
              "    fill: var(--button-hover-fill-color);\n",
              "  }\n",
              "\n",
              "  .colab-df-quickchart-complete:disabled,\n",
              "  .colab-df-quickchart-complete:disabled:hover {\n",
              "    background-color: var(--disabled-bg-color);\n",
              "    fill: var(--disabled-fill-color);\n",
              "    box-shadow: none;\n",
              "  }\n",
              "\n",
              "  .colab-df-spinner {\n",
              "    border: 2px solid var(--fill-color);\n",
              "    border-color: transparent;\n",
              "    border-bottom-color: var(--fill-color);\n",
              "    animation:\n",
              "      spin 1s steps(1) infinite;\n",
              "  }\n",
              "\n",
              "  @keyframes spin {\n",
              "    0% {\n",
              "      border-color: transparent;\n",
              "      border-bottom-color: var(--fill-color);\n",
              "      border-left-color: var(--fill-color);\n",
              "    }\n",
              "    20% {\n",
              "      border-color: transparent;\n",
              "      border-left-color: var(--fill-color);\n",
              "      border-top-color: var(--fill-color);\n",
              "    }\n",
              "    30% {\n",
              "      border-color: transparent;\n",
              "      border-left-color: var(--fill-color);\n",
              "      border-top-color: var(--fill-color);\n",
              "      border-right-color: var(--fill-color);\n",
              "    }\n",
              "    40% {\n",
              "      border-color: transparent;\n",
              "      border-right-color: var(--fill-color);\n",
              "      border-top-color: var(--fill-color);\n",
              "    }\n",
              "    60% {\n",
              "      border-color: transparent;\n",
              "      border-right-color: var(--fill-color);\n",
              "    }\n",
              "    80% {\n",
              "      border-color: transparent;\n",
              "      border-right-color: var(--fill-color);\n",
              "      border-bottom-color: var(--fill-color);\n",
              "    }\n",
              "    90% {\n",
              "      border-color: transparent;\n",
              "      border-bottom-color: var(--fill-color);\n",
              "    }\n",
              "  }\n",
              "</style>\n",
              "\n",
              "  <script>\n",
              "    async function quickchart(key) {\n",
              "      const quickchartButtonEl =\n",
              "        document.querySelector('#' + key + ' button');\n",
              "      quickchartButtonEl.disabled = true;  // To prevent multiple clicks.\n",
              "      quickchartButtonEl.classList.add('colab-df-spinner');\n",
              "      try {\n",
              "        const charts = await google.colab.kernel.invokeFunction(\n",
              "            'suggestCharts', [key], {});\n",
              "      } catch (error) {\n",
              "        console.error('Error during call to suggestCharts:', error);\n",
              "      }\n",
              "      quickchartButtonEl.classList.remove('colab-df-spinner');\n",
              "      quickchartButtonEl.classList.add('colab-df-quickchart-complete');\n",
              "    }\n",
              "    (() => {\n",
              "      let quickchartButtonEl =\n",
              "        document.querySelector('#df-9381d9cd-f8f4-487b-9b81-27c132148414 button');\n",
              "      quickchartButtonEl.style.display =\n",
              "        google.colab.kernel.accessAllowed ? 'block' : 'none';\n",
              "    })();\n",
              "  </script>\n",
              "</div>\n",
              "\n",
              "    </div>\n",
              "  </div>\n"
            ],
            "application/vnd.google.colaboratory.intrinsic+json": {
              "type": "dataframe",
              "variable_name": "tlt_data",
              "summary": "{\n  \"name\": \"tlt_data\",\n  \"rows\": 420,\n  \"fields\": [\n    {\n      \"column\": \"Date\",\n      \"properties\": {\n        \"dtype\": \"object\",\n        \"num_unique_values\": 420,\n        \"samples\": [\n          \"2014-07-30\",\n          \"2015-04-30\",\n          \"2014-09-11\"\n        ],\n        \"semantic_type\": \"\",\n        \"description\": \"\"\n      }\n    },\n    {\n      \"column\": \"Open\",\n      \"properties\": {\n        \"dtype\": \"number\",\n        \"std\": 8.107008589512537,\n        \"min\": 101.720001,\n        \"max\": 137.710007,\n        \"num_unique_values\": 385,\n        \"samples\": [\n          126.779999,\n          134.0,\n          115.389999\n        ],\n        \"semantic_type\": \"\",\n        \"description\": \"\"\n      }\n    },\n    {\n      \"column\": \"High\",\n      \"properties\": {\n        \"dtype\": \"number\",\n        \"std\": 8.189628794093206,\n        \"min\": 102.389999,\n        \"max\": 138.5,\n        \"num_unique_values\": 385,\n        \"samples\": [\n          128.169998,\n          136.130005,\n          120.57\n        ],\n        \"semantic_type\": \"\",\n        \"description\": \"\"\n      }\n    },\n    {\n      \"column\": \"Low\",\n      \"properties\": {\n        \"dtype\": \"number\",\n        \"std\": 7.9346929718445685,\n        \"min\": 101.169998,\n        \"max\": 137.179993,\n        \"num_unique_values\": 395,\n        \"samples\": [\n          112.040001,\n          120.419998,\n          133.029999\n        ],\n        \"semantic_type\": \"\",\n        \"description\": \"\"\n      }\n    },\n    {\n      \"column\": \"Close\",\n      \"properties\": {\n        \"dtype\": \"number\",\n        \"std\": 8.035507336543409,\n        \"min\": 101.860001,\n        \"max\": 138.279999,\n        \"num_unique_values\": 385,\n        \"samples\": [\n          127.989998,\n          134.360001,\n          116.07\n        ],\n        \"semantic_type\": \"\",\n        \"description\": \"\"\n      }\n    },\n    {\n      \"column\": \"Adj Close\",\n      \"properties\": {\n        \"dtype\": \"number\",\n        \"std\": 7.810632169406566,\n        \"min\": 83.814583,\n        \"max\": 117.170731,\n        \"num_unique_values\": 408,\n        \"samples\": [\n          91.562988,\n          100.713974,\n          114.196548\n        ],\n        \"semantic_type\": \"\",\n        \"description\": \"\"\n      }\n    },\n    {\n      \"column\": \"Volume\",\n      \"properties\": {\n        \"dtype\": \"number\",\n        \"std\": 3454573,\n        \"min\": 2416500,\n        \"max\": 37407500,\n        \"num_unique_values\": 418,\n        \"samples\": [\n          6075500,\n          7268800,\n          5627500\n        ],\n        \"semantic_type\": \"\",\n        \"description\": \"\"\n      }\n    }\n  ]\n}"
            }
          },
          "metadata": {},
          "execution_count": 22
        }
      ]
    },
    {
      "cell_type": "markdown",
      "source": [
        "# **Question 10**"
      ],
      "metadata": {
        "id": "kHG9jlRnmIEZ"
      }
    },
    {
      "cell_type": "code",
      "source": [
        "spy_data_stats = spy_data['Adj Close'].pct_change()\n",
        "spy_data_description = spy_data_stats.describe()\n",
        "\n",
        "\n",
        "tlt_data_stats = tlt_data['Adj Close'].pct_change()\n",
        "tlt_data_description = tlt_data_stats.describe()\n",
        "\n",
        "print(f\"Average, Min, Max and general description of S&P500 Data \\n {spy_data_description}\")\n",
        "print(\"\\n\")\n",
        "print(f\"Average, Min, Max and general description of Long-Term Treasury Bond Data \\n {tlt_data_description}\")"
      ],
      "metadata": {
        "colab": {
          "base_uri": "https://localhost:8080/"
        },
        "id": "C0uRFj4AmLFI",
        "outputId": "96f070a4-de36-4f70-9278-fa097e2c240a"
      },
      "execution_count": 23,
      "outputs": [
        {
          "output_type": "stream",
          "name": "stdout",
          "text": [
            "Average, Min, Max and general description of S&P500 Data \n",
            " count    419.000000\n",
            "mean       0.000263\n",
            "std        0.008007\n",
            "min       -0.042107\n",
            "25%       -0.003915\n",
            "50%        0.000546\n",
            "75%        0.004764\n",
            "max        0.038394\n",
            "Name: Adj Close, dtype: float64\n",
            "\n",
            "\n",
            "Average, Min, Max and general description of Long-Term Treasury Bond Data \n",
            " count    419.000000\n",
            "mean       0.000560\n",
            "std        0.008419\n",
            "min       -0.024325\n",
            "25%       -0.004949\n",
            "50%        0.001003\n",
            "75%        0.006242\n",
            "max        0.026469\n",
            "Name: Adj Close, dtype: float64\n"
          ]
        }
      ]
    },
    {
      "cell_type": "code",
      "source": [],
      "metadata": {
        "id": "Fo-1pi7yRk9_"
      },
      "execution_count": 23,
      "outputs": []
    }
  ]
}